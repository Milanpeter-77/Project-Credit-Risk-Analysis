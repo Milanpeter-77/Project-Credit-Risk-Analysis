{
 "cells": [
  {
   "cell_type": "markdown",
   "metadata": {},
   "source": [
    "# **Modelling**"
   ]
  },
  {
   "cell_type": "code",
   "execution_count": null,
   "metadata": {},
   "outputs": [],
   "source": [
    "# Libraries\n",
    "import pandas as pd\n",
    "import numpy as np\n",
    "\n",
    "from sklearn.dummy import DummyClassifier\n",
    "from sklearn.tree import DecisionTreeClassifier \n",
    "from sklearn.metrics import accuracy_score, precision_score, recall_score, roc_auc_score, roc_curve, confusion_matrix\n",
    "from sklearn.model_selection import train_test_split, GridSearchCV\n",
    "from sklearn.ensemble import RandomForestClassifier, AdaBoostClassifier\n",
    "from xgboost import XGBClassifier"
   ]
  },
  {
   "cell_type": "code",
   "execution_count": 2,
   "metadata": {},
   "outputs": [],
   "source": [
    "# Reading csv file that contains the prepared data for modelling process\n",
    "credit_data = pd.read_csv(\"tables/credit_data_modelling.csv\", index_col=0)"
   ]
  },
  {
   "cell_type": "code",
   "execution_count": 15,
   "metadata": {},
   "outputs": [],
   "source": [
    "# Classification result tables\n",
    "\n",
    "# Classification report\n",
    "class_report_results = pd.DataFrame({\"Type\": [\"Baseline\", \"Baseline\", \"Advanced\", \"Advanced\", \"Advanced\", \"Advanced\"],\n",
    "                                     \"Model\": [\"Majority Class Model\", \"Shallow Decision Tree\", \"Decision Tree\", \"Random Forest\", \"AdaBoost\", \"GradientBoost\"],\n",
    "                                     \"Accuracy\": np.nan,\n",
    "                                     \"Precision\": np.nan,\n",
    "                                     \"Recall\": np.nan,\n",
    "                                     \"ROC-AUC\": np.nan})\n",
    "\n",
    "# Confusion matrix\n",
    "conf_matrix = {\"Majority Class Model\": np.nan,\n",
    "                \"Shallow Decision Tree\": np.nan,\n",
    "                \"Decision Tree\": np.nan,\n",
    "                \"Random Forest\": np.nan,\n",
    "                \"AdaBoost\": np.nan,\n",
    "                \"GradientBoost\": np.nan}\n",
    "\n",
    "# Best parameters\n",
    "best_parameters = pd.DataFrame({\"Model\": [\"Decision Tree\", \"Random Forest\", \"AdaBoost\", \"GradientBoost\"]})\n",
    "\n",
    "# Misclassification matrix\n",
    "misclass_matrix = {\"Majority Class Model\": np.nan,\n",
    "                    \"Shallow Decision Tree\": np.nan,\n",
    "                    \"Decision Tree\": np.nan,\n",
    "                    \"Random Forest\": np.nan,\n",
    "                    \"AdaBoost\": np.nan,\n",
    "                    \"GradientBoost\": np.nan}\n",
    "\n",
    "# Misclassification costs\n",
    "misclass_cost = pd.DataFrame({\"Type\": [\"Baseline\", \"Baseline\", \"Advanced\", \"Advanced\", \"Advanced\", \"Advanced\"],\n",
    "                                \"Model\": [\"Majority Class Model\", \"Shallow Decision Tree\", \"Decision Tree\", \"Random Forest\", \"AdaBoost\", \"GradientBoost\"],\n",
    "                                \"Maximum cost\": [5000, 5000, 1000, 1000, 1000, 1000],\n",
    "                                \"Model cost\": np.nan,\n",
    "                                \"Relative cost\": np.nan})\n",
    "\n",
    "# Feature importance\n",
    "feature_importance = {\"Majority Class Model\": np.nan,\n",
    "                    \"Shallow Decision Tree\": np.nan,\n",
    "                    \"Decision Tree\": np.nan,\n",
    "                    \"Random Forest\": np.nan,\n",
    "                    \"AdaBoost\": np.nan,\n",
    "                    \"GradientBoost\": np.nan}"
   ]
  },
  {
   "cell_type": "markdown",
   "metadata": {},
   "source": [
    "## **Baseline Model**"
   ]
  },
  {
   "cell_type": "markdown",
   "metadata": {},
   "source": [
    "### **Majority Class Model**"
   ]
  },
  {
   "cell_type": "code",
   "execution_count": 16,
   "metadata": {},
   "outputs": [
    {
     "data": {
      "application/vnd.microsoft.datawrangler.viewer.v0+json": {
       "columns": [
        {
         "name": "index",
         "rawType": "int64",
         "type": "integer"
        },
        {
         "name": "Type",
         "rawType": "object",
         "type": "string"
        },
        {
         "name": "Model",
         "rawType": "object",
         "type": "string"
        },
        {
         "name": "Accuracy",
         "rawType": "float64",
         "type": "float"
        },
        {
         "name": "Precision",
         "rawType": "float64",
         "type": "float"
        },
        {
         "name": "Recall",
         "rawType": "float64",
         "type": "float"
        },
        {
         "name": "ROC-AUC",
         "rawType": "float64",
         "type": "float"
        }
       ],
       "conversionMethod": "pd.DataFrame",
       "ref": "b1a8e90f-6a07-48b0-a61a-ba0f868b25b8",
       "rows": [
        [
         "0",
         "Baseline",
         "Majority Class Model",
         "0.7",
         "0.49",
         "0.7",
         "0.5"
        ]
       ],
       "shape": {
        "columns": 6,
        "rows": 1
       }
      },
      "text/html": [
       "<div>\n",
       "<style scoped>\n",
       "    .dataframe tbody tr th:only-of-type {\n",
       "        vertical-align: middle;\n",
       "    }\n",
       "\n",
       "    .dataframe tbody tr th {\n",
       "        vertical-align: top;\n",
       "    }\n",
       "\n",
       "    .dataframe thead th {\n",
       "        text-align: right;\n",
       "    }\n",
       "</style>\n",
       "<table border=\"1\" class=\"dataframe\">\n",
       "  <thead>\n",
       "    <tr style=\"text-align: right;\">\n",
       "      <th></th>\n",
       "      <th>Type</th>\n",
       "      <th>Model</th>\n",
       "      <th>Accuracy</th>\n",
       "      <th>Precision</th>\n",
       "      <th>Recall</th>\n",
       "      <th>ROC-AUC</th>\n",
       "    </tr>\n",
       "  </thead>\n",
       "  <tbody>\n",
       "    <tr>\n",
       "      <th>0</th>\n",
       "      <td>Baseline</td>\n",
       "      <td>Majority Class Model</td>\n",
       "      <td>0.7</td>\n",
       "      <td>0.49</td>\n",
       "      <td>0.7</td>\n",
       "      <td>0.5</td>\n",
       "    </tr>\n",
       "  </tbody>\n",
       "</table>\n",
       "</div>"
      ],
      "text/plain": [
       "       Type                 Model  Accuracy  Precision  Recall  ROC-AUC\n",
       "0  Baseline  Majority Class Model       0.7       0.49     0.7      0.5"
      ]
     },
     "metadata": {},
     "output_type": "display_data"
    }
   ],
   "source": [
    "# Data preparation\n",
    "X = credit_data.drop(columns=[\"DEBTOR_STATUS\"])\n",
    "y = credit_data[\"DEBTOR_STATUS\"]\n",
    "\n",
    "# Define the Majority Class Model\n",
    "majority_model = DummyClassifier(strategy=\"most_frequent\")\n",
    "\n",
    "# Train the model\n",
    "majority_model.fit(X, y)\n",
    "\n",
    "# Make predictions (in-sample) of classes and probabilities\n",
    "y_pred = majority_model.predict(X)\n",
    "y_prob = majority_model.predict_proba(X)\n",
    "\n",
    "# Evaluate the model -----\n",
    "# Confusion matrix and related metrics\n",
    "conf_matrix[\"Majority Class Model\"] = confusion_matrix(y, y_pred)\n",
    "class_report_results.loc[class_report_results[\"Model\"] == \"Majority Class Model\", \"Accuracy\"] = round(accuracy_score(y, y_pred), 4)\n",
    "class_report_results.loc[class_report_results[\"Model\"] == \"Majority Class Model\", \"Precision\"] = round(precision_score(y, y_pred, average=\"weighted\", zero_division=0), 4)\n",
    "class_report_results.loc[class_report_results[\"Model\"] == \"Majority Class Model\", \"Recall\"] = round(recall_score(y, y_pred, average=\"weighted\"), 4)\n",
    "# ROC-AUC\n",
    "class_report_results.loc[class_report_results[\"Model\"] == \"Majority Class Model\", \"ROC-AUC\"] = round(roc_auc_score(y, y_pred), 4)\n",
    "\n",
    "fpr, tpr, thresholds = roc_curve(y, y_prob[:, 1]) # False Positive Rate, True Positive Rate, and Tresholds\n",
    "roc_auc_data = pd.DataFrame({\n",
    "    \"False Positive Rate\": fpr,\n",
    "    \"True Positive Rate\": tpr,\n",
    "    \"Threshold\": thresholds\n",
    "})\n",
    "roc_auc_data.to_csv(\"tables/roc_auc_data_majority_model.csv\", index=False)\n",
    "\n",
    "# Display metrics -----\n",
    "display(class_report_results.iloc[0:(class_report_results.loc[class_report_results[\"Model\"] == \"Majority Class Model\"].index[0] + 1)])"
   ]
  },
  {
   "cell_type": "markdown",
   "metadata": {},
   "source": [
    "### **Shallow Random Forest**"
   ]
  },
  {
   "cell_type": "code",
   "execution_count": 24,
   "metadata": {},
   "outputs": [
    {
     "data": {
      "application/vnd.microsoft.datawrangler.viewer.v0+json": {
       "columns": [
        {
         "name": "index",
         "rawType": "int64",
         "type": "integer"
        },
        {
         "name": "Type",
         "rawType": "object",
         "type": "string"
        },
        {
         "name": "Model",
         "rawType": "object",
         "type": "string"
        },
        {
         "name": "Accuracy",
         "rawType": "float64",
         "type": "float"
        },
        {
         "name": "Precision",
         "rawType": "float64",
         "type": "float"
        },
        {
         "name": "Recall",
         "rawType": "float64",
         "type": "float"
        },
        {
         "name": "ROC-AUC",
         "rawType": "float64",
         "type": "float"
        }
       ],
       "conversionMethod": "pd.DataFrame",
       "ref": "2ed171aa-24b1-4efe-9a16-129bbdb44107",
       "rows": [
        [
         "0",
         "Baseline",
         "Majority Class Model",
         "0.7",
         "0.49",
         "0.7",
         "0.5"
        ],
        [
         "1",
         "Baseline",
         "Shallow Decision Tree",
         "0.719",
         "0.7085",
         "0.719",
         "0.645"
        ]
       ],
       "shape": {
        "columns": 6,
        "rows": 2
       }
      },
      "text/html": [
       "<div>\n",
       "<style scoped>\n",
       "    .dataframe tbody tr th:only-of-type {\n",
       "        vertical-align: middle;\n",
       "    }\n",
       "\n",
       "    .dataframe tbody tr th {\n",
       "        vertical-align: top;\n",
       "    }\n",
       "\n",
       "    .dataframe thead th {\n",
       "        text-align: right;\n",
       "    }\n",
       "</style>\n",
       "<table border=\"1\" class=\"dataframe\">\n",
       "  <thead>\n",
       "    <tr style=\"text-align: right;\">\n",
       "      <th></th>\n",
       "      <th>Type</th>\n",
       "      <th>Model</th>\n",
       "      <th>Accuracy</th>\n",
       "      <th>Precision</th>\n",
       "      <th>Recall</th>\n",
       "      <th>ROC-AUC</th>\n",
       "    </tr>\n",
       "  </thead>\n",
       "  <tbody>\n",
       "    <tr>\n",
       "      <th>0</th>\n",
       "      <td>Baseline</td>\n",
       "      <td>Majority Class Model</td>\n",
       "      <td>0.700</td>\n",
       "      <td>0.4900</td>\n",
       "      <td>0.700</td>\n",
       "      <td>0.500</td>\n",
       "    </tr>\n",
       "    <tr>\n",
       "      <th>1</th>\n",
       "      <td>Baseline</td>\n",
       "      <td>Shallow Decision Tree</td>\n",
       "      <td>0.719</td>\n",
       "      <td>0.7085</td>\n",
       "      <td>0.719</td>\n",
       "      <td>0.645</td>\n",
       "    </tr>\n",
       "  </tbody>\n",
       "</table>\n",
       "</div>"
      ],
      "text/plain": [
       "       Type                  Model  Accuracy  Precision  Recall  ROC-AUC\n",
       "0  Baseline   Majority Class Model     0.700     0.4900   0.700    0.500\n",
       "1  Baseline  Shallow Decision Tree     0.719     0.7085   0.719    0.645"
      ]
     },
     "metadata": {},
     "output_type": "display_data"
    }
   ],
   "source": [
    "# Data preparation\n",
    "X = credit_data.drop(columns=[\"DEBTOR_STATUS\"])\n",
    "y = credit_data[\"DEBTOR_STATUS\"]\n",
    "\n",
    "# Define the Shallow Decision Tree Model (max depth = 2 to keep it shallow)\n",
    "shallow_tree_model = DecisionTreeClassifier(max_depth=2, criterion=\"gini\")\n",
    "\n",
    "# Train the model\n",
    "shallow_tree_model.fit(X, y)\n",
    "\n",
    "# Make predictions (in-sample) of classes and probabilities\n",
    "y_pred = shallow_tree_model.predict(X)\n",
    "y_prob = shallow_tree_model.predict_proba(X)\n",
    "\n",
    "# Evaluate the model -----\n",
    "# Confusion matrix and related metrics\n",
    "conf_matrix[\"Shallow Decision Tree\"] = confusion_matrix(y, y_pred)\n",
    "class_report_results.loc[class_report_results[\"Model\"] == \"Shallow Decision Tree\", \"Accuracy\"] = round(accuracy_score(y, y_pred), 4)\n",
    "class_report_results.loc[class_report_results[\"Model\"] == \"Shallow Decision Tree\", \"Precision\"] = round(precision_score(y, y_pred, average=\"weighted\", zero_division=0), 4)\n",
    "class_report_results.loc[class_report_results[\"Model\"] == \"Shallow Decision Tree\", \"Recall\"] = round(recall_score(y, y_pred, average=\"weighted\"), 4)\n",
    "# ROC-AUC\n",
    "class_report_results.loc[class_report_results[\"Model\"] == \"Shallow Decision Tree\", \"ROC-AUC\"] = round(roc_auc_score(y, y_pred), 4)\n",
    "\n",
    "fpr, tpr, thresholds = roc_curve(y, y_prob[:, 1]) # False Positive Rate, True Positive Rate, and Tresholds\n",
    "roc_auc_data = pd.DataFrame({\n",
    "    \"False Positive Rate\": fpr,\n",
    "    \"True Positive Rate\": tpr,\n",
    "    \"Threshold\": thresholds\n",
    "})\n",
    "roc_auc_data.to_csv(\"tables/roc_auc_data_shallow_decision_tree.csv\", index=False)\n",
    "\n",
    "# Feature importance -----\n",
    "feature_importance[\"Shallow Decision Tree\"] = pd.DataFrame({\"Feature\": shallow_tree_model.feature_names_in_,\n",
    "                                                            \"Importance\": shallow_tree_model.feature_importances_\n",
    "                                                            }).sort_values(by=\"Importance\", ascending=False)\n",
    "\n",
    "# Display metrics -----\n",
    "display(class_report_results.iloc[0:(class_report_results.loc[class_report_results[\"Model\"] == \"Shallow Decision Tree\"].index[0] + 1)])"
   ]
  },
  {
   "cell_type": "code",
   "execution_count": 62,
   "metadata": {},
   "outputs": [
    {
     "data": {
      "application/vnd.microsoft.datawrangler.viewer.v0+json": {
       "columns": [
        {
         "name": "index",
         "rawType": "int64",
         "type": "integer"
        },
        {
         "name": "Type",
         "rawType": "object",
         "type": "string"
        },
        {
         "name": "Model",
         "rawType": "object",
         "type": "string"
        },
        {
         "name": "Maximum cost",
         "rawType": "int64",
         "type": "integer"
        },
        {
         "name": "Model cost",
         "rawType": "float64",
         "type": "float"
        },
        {
         "name": "Relative cost",
         "rawType": "float64",
         "type": "float"
        }
       ],
       "conversionMethod": "pd.DataFrame",
       "ref": "3687868a-5c57-44ff-8856-2b5bf96672da",
       "rows": [
        [
         "0",
         "Baseline",
         "Majority Class Model",
         "5000",
         "1500.0",
         "0.3"
        ],
        [
         "1",
         "Baseline",
         "Shallow Decision Tree",
         "5000",
         "929.0",
         "0.1858"
        ]
       ],
       "shape": {
        "columns": 5,
        "rows": 2
       }
      },
      "text/html": [
       "<div>\n",
       "<style scoped>\n",
       "    .dataframe tbody tr th:only-of-type {\n",
       "        vertical-align: middle;\n",
       "    }\n",
       "\n",
       "    .dataframe tbody tr th {\n",
       "        vertical-align: top;\n",
       "    }\n",
       "\n",
       "    .dataframe thead th {\n",
       "        text-align: right;\n",
       "    }\n",
       "</style>\n",
       "<table border=\"1\" class=\"dataframe\">\n",
       "  <thead>\n",
       "    <tr style=\"text-align: right;\">\n",
       "      <th></th>\n",
       "      <th>Type</th>\n",
       "      <th>Model</th>\n",
       "      <th>Maximum cost</th>\n",
       "      <th>Model cost</th>\n",
       "      <th>Relative cost</th>\n",
       "    </tr>\n",
       "  </thead>\n",
       "  <tbody>\n",
       "    <tr>\n",
       "      <th>0</th>\n",
       "      <td>Baseline</td>\n",
       "      <td>Majority Class Model</td>\n",
       "      <td>5000</td>\n",
       "      <td>1500.0</td>\n",
       "      <td>0.3000</td>\n",
       "    </tr>\n",
       "    <tr>\n",
       "      <th>1</th>\n",
       "      <td>Baseline</td>\n",
       "      <td>Shallow Decision Tree</td>\n",
       "      <td>5000</td>\n",
       "      <td>929.0</td>\n",
       "      <td>0.1858</td>\n",
       "    </tr>\n",
       "  </tbody>\n",
       "</table>\n",
       "</div>"
      ],
      "text/plain": [
       "       Type                  Model  Maximum cost  Model cost  Relative cost\n",
       "0  Baseline   Majority Class Model          5000      1500.0         0.3000\n",
       "1  Baseline  Shallow Decision Tree          5000       929.0         0.1858"
      ]
     },
     "metadata": {},
     "output_type": "display_data"
    }
   ],
   "source": [
    "# Misclassification costs of the baseline models\n",
    "\n",
    "# Define cost matrix (FN = 5, FP = 1)\n",
    "cost_matrix = np.array([[0, 1],  # Cost of predicting Bad (1) when True is Good (0) = 1\n",
    "                        [5, 0]]) # Cost of predicting Good (0) when True is Bad (1) = 5\n",
    "\n",
    "# Misclassification costs of the Majority Class Model\n",
    "misclass_matrix[\"Majority Class Model\"] = conf_matrix[\"Majority Class Model\"] * cost_matrix\n",
    "misclass_cost.loc[class_report_results[\"Model\"] == \"Majority Class Model\", \"Model cost\"] = (conf_matrix[\"Majority Class Model\"] * cost_matrix).sum()\n",
    "misclass_cost.loc[class_report_results[\"Model\"] == \"Majority Class Model\", \"Relative cost\"] = (conf_matrix[\"Majority Class Model\"] * cost_matrix).sum()/(cost_matrix.max() * len(X))\n",
    "\n",
    "# Misclassification costs of the Shallow Decision Tree\n",
    "misclass_matrix[\"Shallow Decision Tree\"] = conf_matrix[\"Shallow Decision Tree\"] * cost_matrix\n",
    "misclass_cost.loc[class_report_results[\"Model\"] == \"Shallow Decision Tree\", \"Model cost\"] = (conf_matrix[\"Shallow Decision Tree\"] * cost_matrix).sum()\n",
    "misclass_cost.loc[class_report_results[\"Model\"] == \"Shallow Decision Tree\", \"Relative cost\"] = (conf_matrix[\"Shallow Decision Tree\"] * cost_matrix).sum()/(cost_matrix.max() * len(X))\n",
    "\n",
    "# Display costs\n",
    "display(misclass_cost.iloc[0:(misclass_cost.loc[misclass_cost[\"Model\"] == \"Shallow Decision Tree\"].index[0] + 1)])"
   ]
  },
  {
   "cell_type": "markdown",
   "metadata": {},
   "source": [
    "## **Advanced Machine Learning Models**"
   ]
  },
  {
   "cell_type": "markdown",
   "metadata": {},
   "source": [
    "### **Decision Tree**"
   ]
  },
  {
   "cell_type": "code",
   "execution_count": 27,
   "metadata": {},
   "outputs": [
    {
     "data": {
      "application/vnd.microsoft.datawrangler.viewer.v0+json": {
       "columns": [
        {
         "name": "index",
         "rawType": "int64",
         "type": "integer"
        },
        {
         "name": "Type",
         "rawType": "object",
         "type": "string"
        },
        {
         "name": "Model",
         "rawType": "object",
         "type": "string"
        },
        {
         "name": "Accuracy",
         "rawType": "float64",
         "type": "float"
        },
        {
         "name": "Precision",
         "rawType": "float64",
         "type": "float"
        },
        {
         "name": "Recall",
         "rawType": "float64",
         "type": "float"
        },
        {
         "name": "ROC-AUC",
         "rawType": "float64",
         "type": "float"
        }
       ],
       "conversionMethod": "pd.DataFrame",
       "ref": "8dc81096-3d3a-47ed-83c6-bdac6c50f46d",
       "rows": [
        [
         "0",
         "Baseline",
         "Majority Class Model",
         "0.7",
         "0.49",
         "0.7",
         "0.5"
        ],
        [
         "1",
         "Baseline",
         "Shallow Decision Tree",
         "0.719",
         "0.7085",
         "0.719",
         "0.645"
        ],
        [
         "2",
         "Advanced",
         "Decision Tree",
         "0.71",
         "0.7547",
         "0.71",
         "0.6893"
        ]
       ],
       "shape": {
        "columns": 6,
        "rows": 3
       }
      },
      "text/html": [
       "<div>\n",
       "<style scoped>\n",
       "    .dataframe tbody tr th:only-of-type {\n",
       "        vertical-align: middle;\n",
       "    }\n",
       "\n",
       "    .dataframe tbody tr th {\n",
       "        vertical-align: top;\n",
       "    }\n",
       "\n",
       "    .dataframe thead th {\n",
       "        text-align: right;\n",
       "    }\n",
       "</style>\n",
       "<table border=\"1\" class=\"dataframe\">\n",
       "  <thead>\n",
       "    <tr style=\"text-align: right;\">\n",
       "      <th></th>\n",
       "      <th>Type</th>\n",
       "      <th>Model</th>\n",
       "      <th>Accuracy</th>\n",
       "      <th>Precision</th>\n",
       "      <th>Recall</th>\n",
       "      <th>ROC-AUC</th>\n",
       "    </tr>\n",
       "  </thead>\n",
       "  <tbody>\n",
       "    <tr>\n",
       "      <th>0</th>\n",
       "      <td>Baseline</td>\n",
       "      <td>Majority Class Model</td>\n",
       "      <td>0.700</td>\n",
       "      <td>0.4900</td>\n",
       "      <td>0.700</td>\n",
       "      <td>0.5000</td>\n",
       "    </tr>\n",
       "    <tr>\n",
       "      <th>1</th>\n",
       "      <td>Baseline</td>\n",
       "      <td>Shallow Decision Tree</td>\n",
       "      <td>0.719</td>\n",
       "      <td>0.7085</td>\n",
       "      <td>0.719</td>\n",
       "      <td>0.6450</td>\n",
       "    </tr>\n",
       "    <tr>\n",
       "      <th>2</th>\n",
       "      <td>Advanced</td>\n",
       "      <td>Decision Tree</td>\n",
       "      <td>0.710</td>\n",
       "      <td>0.7547</td>\n",
       "      <td>0.710</td>\n",
       "      <td>0.6893</td>\n",
       "    </tr>\n",
       "  </tbody>\n",
       "</table>\n",
       "</div>"
      ],
      "text/plain": [
       "       Type                  Model  Accuracy  Precision  Recall  ROC-AUC\n",
       "0  Baseline   Majority Class Model     0.700     0.4900   0.700   0.5000\n",
       "1  Baseline  Shallow Decision Tree     0.719     0.7085   0.719   0.6450\n",
       "2  Advanced          Decision Tree     0.710     0.7547   0.710   0.6893"
      ]
     },
     "metadata": {},
     "output_type": "display_data"
    },
    {
     "data": {
      "application/vnd.microsoft.datawrangler.viewer.v0+json": {
       "columns": [
        {
         "name": "index",
         "rawType": "int64",
         "type": "integer"
        },
        {
         "name": "Type",
         "rawType": "object",
         "type": "string"
        },
        {
         "name": "Model",
         "rawType": "object",
         "type": "string"
        },
        {
         "name": "Maximum cost",
         "rawType": "int64",
         "type": "integer"
        },
        {
         "name": "Model cost",
         "rawType": "float64",
         "type": "float"
        },
        {
         "name": "Relative cost",
         "rawType": "float64",
         "type": "float"
        }
       ],
       "conversionMethod": "pd.DataFrame",
       "ref": "78a88606-bc91-4156-8949-d852ad24a0e8",
       "rows": [
        [
         "0",
         "Baseline",
         "Majority Class Model",
         "5000",
         null,
         null
        ],
        [
         "1",
         "Baseline",
         "Shallow Decision Tree",
         "5000",
         null,
         null
        ],
        [
         "2",
         "Advanced",
         "Decision Tree",
         "1000",
         "130.0",
         "0.13"
        ]
       ],
       "shape": {
        "columns": 5,
        "rows": 3
       }
      },
      "text/html": [
       "<div>\n",
       "<style scoped>\n",
       "    .dataframe tbody tr th:only-of-type {\n",
       "        vertical-align: middle;\n",
       "    }\n",
       "\n",
       "    .dataframe tbody tr th {\n",
       "        vertical-align: top;\n",
       "    }\n",
       "\n",
       "    .dataframe thead th {\n",
       "        text-align: right;\n",
       "    }\n",
       "</style>\n",
       "<table border=\"1\" class=\"dataframe\">\n",
       "  <thead>\n",
       "    <tr style=\"text-align: right;\">\n",
       "      <th></th>\n",
       "      <th>Type</th>\n",
       "      <th>Model</th>\n",
       "      <th>Maximum cost</th>\n",
       "      <th>Model cost</th>\n",
       "      <th>Relative cost</th>\n",
       "    </tr>\n",
       "  </thead>\n",
       "  <tbody>\n",
       "    <tr>\n",
       "      <th>0</th>\n",
       "      <td>Baseline</td>\n",
       "      <td>Majority Class Model</td>\n",
       "      <td>5000</td>\n",
       "      <td>NaN</td>\n",
       "      <td>NaN</td>\n",
       "    </tr>\n",
       "    <tr>\n",
       "      <th>1</th>\n",
       "      <td>Baseline</td>\n",
       "      <td>Shallow Decision Tree</td>\n",
       "      <td>5000</td>\n",
       "      <td>NaN</td>\n",
       "      <td>NaN</td>\n",
       "    </tr>\n",
       "    <tr>\n",
       "      <th>2</th>\n",
       "      <td>Advanced</td>\n",
       "      <td>Decision Tree</td>\n",
       "      <td>1000</td>\n",
       "      <td>130.0</td>\n",
       "      <td>0.13</td>\n",
       "    </tr>\n",
       "  </tbody>\n",
       "</table>\n",
       "</div>"
      ],
      "text/plain": [
       "       Type                  Model  Maximum cost  Model cost  Relative cost\n",
       "0  Baseline   Majority Class Model          5000         NaN            NaN\n",
       "1  Baseline  Shallow Decision Tree          5000         NaN            NaN\n",
       "2  Advanced          Decision Tree          1000       130.0           0.13"
      ]
     },
     "metadata": {},
     "output_type": "display_data"
    }
   ],
   "source": [
    "# Data preparation\n",
    "X = credit_data.drop(columns=[\"DEBTOR_STATUS\"])\n",
    "y = credit_data[\"DEBTOR_STATUS\"]\n",
    "\n",
    "# Train-test split \n",
    "X_train, X_test, y_train, y_test = train_test_split(X, y, test_size=0.2, random_state=7) \n",
    "\n",
    "# Define the Decision Tree Model with class weights\n",
    "decision_tree_model = DecisionTreeClassifier(criterion=\"gini\", class_weight={0: 1, 1: 5}, random_state=7)\n",
    "\n",
    "# Define the hyperparameter grid\n",
    "param_grid = {\n",
    "    \"max_depth\": [1, 2, 3, 4, 5, 6, 7, 8, None],\n",
    "    \"min_samples_split\": [2, 5, 10],\n",
    "    \"min_samples_leaf\": [1, 2, 3, 4]\n",
    "}\n",
    "\n",
    "# Grid Search with 5-fold cross-validation\n",
    "grid_search = GridSearchCV(\n",
    "    estimator=decision_tree_model,\n",
    "    param_grid=param_grid,\n",
    "    scoring=\"accuracy\",\n",
    "    cv=5\n",
    "    )\n",
    "\n",
    "# Fit the model\n",
    "grid_search.fit(X_train, y_train)\n",
    "\n",
    "# Make predictions with the best model\n",
    "best_dt_model = grid_search.best_estimator_\n",
    "y_pred = best_dt_model.predict(X_test)\n",
    "y_prob = best_dt_model.predict_proba(X_test)\n",
    "\n",
    "# Save best parameters\n",
    "best_parameters.loc[best_parameters[\"Model\"] == \"Decision Tree\", list(grid_search.best_params_.keys())] = list(grid_search.best_params_.values())\n",
    "\n",
    "# Evaluate the final model -----\n",
    "# Confusion matrix and related metrics\n",
    "conf_matrix[\"Decision Tree\"] = confusion_matrix(y_test, y_pred)\n",
    "class_report_results.loc[class_report_results[\"Model\"] == \"Decision Tree\", \"Accuracy\"] = round(accuracy_score(y_test, y_pred), 4)\n",
    "class_report_results.loc[class_report_results[\"Model\"] == \"Decision Tree\", \"Precision\"] = round(precision_score(y_test, y_pred, average=\"weighted\", zero_division=0), 4)\n",
    "class_report_results.loc[class_report_results[\"Model\"] == \"Decision Tree\", \"Recall\"] = round(recall_score(y_test, y_pred, average=\"weighted\"), 4)\n",
    "# ROC-AUC\n",
    "class_report_results.loc[class_report_results[\"Model\"] == \"Decision Tree\", \"ROC-AUC\"] = round(roc_auc_score(y_test, y_pred), 4)\n",
    "# False Positive Rate, True Positive Rate, and Tresholds\n",
    "fpr, tpr, thresholds = roc_curve(y_test, y_prob[:, 1])\n",
    "roc_auc_data = pd.DataFrame({\n",
    "    \"False Positive Rate\": fpr,\n",
    "    \"True Positive Rate\": tpr,\n",
    "    \"Threshold\": thresholds\n",
    "})\n",
    "roc_auc_data.to_csv(\"tables/roc_auc_data_decision_tree.csv\", index=False)\n",
    "\n",
    "# Misclassification costs -----\n",
    "misclass_matrix[\"Decision Tree\"] = conf_matrix[\"Decision Tree\"] * cost_matrix\n",
    "misclass_cost.loc[class_report_results[\"Model\"] == \"Decision Tree\", \"Model cost\"] = (conf_matrix[\"Decision Tree\"] * cost_matrix).sum()\n",
    "misclass_cost.loc[class_report_results[\"Model\"] == \"Decision Tree\", \"Relative cost\"] = (conf_matrix[\"Decision Tree\"] * cost_matrix).sum()/(cost_matrix.max() * len(X_test))\n",
    "\n",
    "# Feature importance -----\n",
    "feature_importance[\"Decision Tree\"] = pd.DataFrame({\"Feature\": best_dt_model.feature_names_in_,\n",
    "                                                    \"Importance\": best_dt_model.feature_importances_\n",
    "                                                    }).sort_values(by=\"Importance\", ascending=False)\n",
    "\n",
    "# Display metrics -----\n",
    "display(class_report_results.iloc[0:(class_report_results.loc[class_report_results[\"Model\"] == \"Decision Tree\"].index[0] + 1)])\n",
    "display(misclass_cost.iloc[0:(misclass_cost.loc[misclass_cost[\"Model\"] == \"Decision Tree\"].index[0] + 1)])"
   ]
  },
  {
   "cell_type": "markdown",
   "metadata": {},
   "source": [
    "### **Random Forest**"
   ]
  },
  {
   "cell_type": "code",
   "execution_count": 28,
   "metadata": {},
   "outputs": [
    {
     "data": {
      "application/vnd.microsoft.datawrangler.viewer.v0+json": {
       "columns": [
        {
         "name": "index",
         "rawType": "int64",
         "type": "integer"
        },
        {
         "name": "Type",
         "rawType": "object",
         "type": "string"
        },
        {
         "name": "Model",
         "rawType": "object",
         "type": "string"
        },
        {
         "name": "Accuracy",
         "rawType": "float64",
         "type": "float"
        },
        {
         "name": "Precision",
         "rawType": "float64",
         "type": "float"
        },
        {
         "name": "Recall",
         "rawType": "float64",
         "type": "float"
        },
        {
         "name": "ROC-AUC",
         "rawType": "float64",
         "type": "float"
        }
       ],
       "conversionMethod": "pd.DataFrame",
       "ref": "32db59ff-f1c1-4b2d-8ab3-e53cb6c88e6f",
       "rows": [
        [
         "0",
         "Baseline",
         "Majority Class Model",
         "0.7",
         "0.49",
         "0.7",
         "0.5"
        ],
        [
         "1",
         "Baseline",
         "Shallow Decision Tree",
         "0.719",
         "0.7085",
         "0.719",
         "0.645"
        ],
        [
         "2",
         "Advanced",
         "Decision Tree",
         "0.71",
         "0.7547",
         "0.71",
         "0.6893"
        ],
        [
         "3",
         "Advanced",
         "Random Forest",
         "0.8",
         "0.7856",
         "0.8",
         "0.6788"
        ]
       ],
       "shape": {
        "columns": 6,
        "rows": 4
       }
      },
      "text/html": [
       "<div>\n",
       "<style scoped>\n",
       "    .dataframe tbody tr th:only-of-type {\n",
       "        vertical-align: middle;\n",
       "    }\n",
       "\n",
       "    .dataframe tbody tr th {\n",
       "        vertical-align: top;\n",
       "    }\n",
       "\n",
       "    .dataframe thead th {\n",
       "        text-align: right;\n",
       "    }\n",
       "</style>\n",
       "<table border=\"1\" class=\"dataframe\">\n",
       "  <thead>\n",
       "    <tr style=\"text-align: right;\">\n",
       "      <th></th>\n",
       "      <th>Type</th>\n",
       "      <th>Model</th>\n",
       "      <th>Accuracy</th>\n",
       "      <th>Precision</th>\n",
       "      <th>Recall</th>\n",
       "      <th>ROC-AUC</th>\n",
       "    </tr>\n",
       "  </thead>\n",
       "  <tbody>\n",
       "    <tr>\n",
       "      <th>0</th>\n",
       "      <td>Baseline</td>\n",
       "      <td>Majority Class Model</td>\n",
       "      <td>0.700</td>\n",
       "      <td>0.4900</td>\n",
       "      <td>0.700</td>\n",
       "      <td>0.5000</td>\n",
       "    </tr>\n",
       "    <tr>\n",
       "      <th>1</th>\n",
       "      <td>Baseline</td>\n",
       "      <td>Shallow Decision Tree</td>\n",
       "      <td>0.719</td>\n",
       "      <td>0.7085</td>\n",
       "      <td>0.719</td>\n",
       "      <td>0.6450</td>\n",
       "    </tr>\n",
       "    <tr>\n",
       "      <th>2</th>\n",
       "      <td>Advanced</td>\n",
       "      <td>Decision Tree</td>\n",
       "      <td>0.710</td>\n",
       "      <td>0.7547</td>\n",
       "      <td>0.710</td>\n",
       "      <td>0.6893</td>\n",
       "    </tr>\n",
       "    <tr>\n",
       "      <th>3</th>\n",
       "      <td>Advanced</td>\n",
       "      <td>Random Forest</td>\n",
       "      <td>0.800</td>\n",
       "      <td>0.7856</td>\n",
       "      <td>0.800</td>\n",
       "      <td>0.6788</td>\n",
       "    </tr>\n",
       "  </tbody>\n",
       "</table>\n",
       "</div>"
      ],
      "text/plain": [
       "       Type                  Model  Accuracy  Precision  Recall  ROC-AUC\n",
       "0  Baseline   Majority Class Model     0.700     0.4900   0.700   0.5000\n",
       "1  Baseline  Shallow Decision Tree     0.719     0.7085   0.719   0.6450\n",
       "2  Advanced          Decision Tree     0.710     0.7547   0.710   0.6893\n",
       "3  Advanced          Random Forest     0.800     0.7856   0.800   0.6788"
      ]
     },
     "metadata": {},
     "output_type": "display_data"
    },
    {
     "data": {
      "application/vnd.microsoft.datawrangler.viewer.v0+json": {
       "columns": [
        {
         "name": "index",
         "rawType": "int64",
         "type": "integer"
        },
        {
         "name": "Type",
         "rawType": "object",
         "type": "string"
        },
        {
         "name": "Model",
         "rawType": "object",
         "type": "string"
        },
        {
         "name": "Maximum cost",
         "rawType": "int64",
         "type": "integer"
        },
        {
         "name": "Model cost",
         "rawType": "float64",
         "type": "float"
        },
        {
         "name": "Relative cost",
         "rawType": "float64",
         "type": "float"
        }
       ],
       "conversionMethod": "pd.DataFrame",
       "ref": "354adb28-4ebb-481b-8fa3-3cafb8aac940",
       "rows": [
        [
         "0",
         "Baseline",
         "Majority Class Model",
         "5000",
         null,
         null
        ],
        [
         "1",
         "Baseline",
         "Shallow Decision Tree",
         "5000",
         null,
         null
        ],
        [
         "2",
         "Advanced",
         "Decision Tree",
         "1000",
         "130.0",
         "0.13"
        ],
        [
         "3",
         "Advanced",
         "Random Forest",
         "1000",
         "156.0",
         "0.156"
        ]
       ],
       "shape": {
        "columns": 5,
        "rows": 4
       }
      },
      "text/html": [
       "<div>\n",
       "<style scoped>\n",
       "    .dataframe tbody tr th:only-of-type {\n",
       "        vertical-align: middle;\n",
       "    }\n",
       "\n",
       "    .dataframe tbody tr th {\n",
       "        vertical-align: top;\n",
       "    }\n",
       "\n",
       "    .dataframe thead th {\n",
       "        text-align: right;\n",
       "    }\n",
       "</style>\n",
       "<table border=\"1\" class=\"dataframe\">\n",
       "  <thead>\n",
       "    <tr style=\"text-align: right;\">\n",
       "      <th></th>\n",
       "      <th>Type</th>\n",
       "      <th>Model</th>\n",
       "      <th>Maximum cost</th>\n",
       "      <th>Model cost</th>\n",
       "      <th>Relative cost</th>\n",
       "    </tr>\n",
       "  </thead>\n",
       "  <tbody>\n",
       "    <tr>\n",
       "      <th>0</th>\n",
       "      <td>Baseline</td>\n",
       "      <td>Majority Class Model</td>\n",
       "      <td>5000</td>\n",
       "      <td>NaN</td>\n",
       "      <td>NaN</td>\n",
       "    </tr>\n",
       "    <tr>\n",
       "      <th>1</th>\n",
       "      <td>Baseline</td>\n",
       "      <td>Shallow Decision Tree</td>\n",
       "      <td>5000</td>\n",
       "      <td>NaN</td>\n",
       "      <td>NaN</td>\n",
       "    </tr>\n",
       "    <tr>\n",
       "      <th>2</th>\n",
       "      <td>Advanced</td>\n",
       "      <td>Decision Tree</td>\n",
       "      <td>1000</td>\n",
       "      <td>130.0</td>\n",
       "      <td>0.130</td>\n",
       "    </tr>\n",
       "    <tr>\n",
       "      <th>3</th>\n",
       "      <td>Advanced</td>\n",
       "      <td>Random Forest</td>\n",
       "      <td>1000</td>\n",
       "      <td>156.0</td>\n",
       "      <td>0.156</td>\n",
       "    </tr>\n",
       "  </tbody>\n",
       "</table>\n",
       "</div>"
      ],
      "text/plain": [
       "       Type                  Model  Maximum cost  Model cost  Relative cost\n",
       "0  Baseline   Majority Class Model          5000         NaN            NaN\n",
       "1  Baseline  Shallow Decision Tree          5000         NaN            NaN\n",
       "2  Advanced          Decision Tree          1000       130.0          0.130\n",
       "3  Advanced          Random Forest          1000       156.0          0.156"
      ]
     },
     "metadata": {},
     "output_type": "display_data"
    }
   ],
   "source": [
    "# Data preparation\n",
    "X = credit_data.drop(columns=[\"DEBTOR_STATUS\"])\n",
    "y = credit_data[\"DEBTOR_STATUS\"]\n",
    "\n",
    "# Train-test split \n",
    "X_train, X_test, y_train, y_test = train_test_split(X, y, test_size=0.2, random_state=7) \n",
    "\n",
    "# Define the Random Forest Model with class weights\n",
    "random_forest_model = RandomForestClassifier(criterion=\"gini\", class_weight={0: 1, 1: 5}, random_state=7)\n",
    "\n",
    "# Define the hyperparameter grid\n",
    "param_grid = {\n",
    "    \"max_depth\": [1, 2, 3, 4, 6, 8, None],\n",
    "    \"n_estimators\": [100],\n",
    "    \"min_samples_split\": [2, 5, 10],\n",
    "    \"max_features\": [\"sqrt\", \"log2\", None]\n",
    "}\n",
    "\n",
    "# Grid Search with 5-fold cross-validation\n",
    "grid_search = GridSearchCV(\n",
    "    estimator=random_forest_model,\n",
    "    param_grid=param_grid,\n",
    "    scoring=\"accuracy\",\n",
    "    cv=5,\n",
    "    verbose=0\n",
    "    )\n",
    "\n",
    "# Fit the model\n",
    "grid_search.fit(X_train, y_train)\n",
    "\n",
    "# Make predictions with the best model\n",
    "best_rf_model = grid_search.best_estimator_\n",
    "y_pred = best_rf_model.predict(X_test)\n",
    "y_prob = best_rf_model.predict_proba(X_test)\n",
    "\n",
    "# Save best parameters\n",
    "best_parameters.loc[best_parameters[\"Model\"] == \"Random Forest\", list(grid_search.best_params_.keys())] = list(grid_search.best_params_.values())\n",
    "\n",
    "# Evaluate the final model -----\n",
    "# Confusion matrix and related metrics\n",
    "conf_matrix[\"Random Forest\"] = confusion_matrix(y_test, y_pred)\n",
    "class_report_results.loc[class_report_results[\"Model\"] == \"Random Forest\", \"Accuracy\"] = round(accuracy_score(y_test, y_pred), 4)\n",
    "class_report_results.loc[class_report_results[\"Model\"] == \"Random Forest\", \"Precision\"] = round(precision_score(y_test, y_pred, average=\"weighted\", zero_division=0), 4)\n",
    "class_report_results.loc[class_report_results[\"Model\"] == \"Random Forest\", \"Recall\"] = round(recall_score(y_test, y_pred, average=\"weighted\"), 4)\n",
    "# ROC-AUC\n",
    "class_report_results.loc[class_report_results[\"Model\"] == \"Random Forest\", \"ROC-AUC\"] = round(roc_auc_score(y_test, y_pred), 4)\n",
    "# False Positive Rate, True Positive Rate, and Tresholds\n",
    "fpr, tpr, thresholds = roc_curve(y_test, y_prob[:, 1])\n",
    "roc_auc_data = pd.DataFrame({\n",
    "    \"False Positive Rate\": fpr,\n",
    "    \"True Positive Rate\": tpr,\n",
    "    \"Threshold\": thresholds\n",
    "})\n",
    "roc_auc_data.to_csv(\"tables/roc_auc_data_random_forest.csv\", index=False)\n",
    "\n",
    "# Misclassification costs -----\n",
    "misclass_matrix[\"Random Forest\"] = conf_matrix[\"Random Forest\"] * cost_matrix\n",
    "misclass_cost.loc[class_report_results[\"Model\"] == \"Random Forest\", \"Model cost\"] = (conf_matrix[\"Random Forest\"] * cost_matrix).sum()\n",
    "misclass_cost.loc[class_report_results[\"Model\"] == \"Random Forest\", \"Relative cost\"] = (conf_matrix[\"Random Forest\"] * cost_matrix).sum()/(cost_matrix.max() * len(X_test))\n",
    "\n",
    "# Feature importance -----\n",
    "feature_importance[\"Random Forest\"] = pd.DataFrame({\"Feature\": best_rf_model.feature_names_in_,\n",
    "                                                    \"Importance\": best_rf_model.feature_importances_\n",
    "                                                    }).sort_values(by=\"Importance\", ascending=False)\n",
    "\n",
    "# Display metrics -----\n",
    "display(class_report_results.iloc[0:(class_report_results.loc[class_report_results[\"Model\"] == \"Random Forest\"].index[0] + 1)])\n",
    "display(misclass_cost.iloc[0:(misclass_cost.loc[misclass_cost[\"Model\"] == \"Random Forest\"].index[0] + 1)])"
   ]
  },
  {
   "cell_type": "markdown",
   "metadata": {},
   "source": [
    "### **AdaBoost**"
   ]
  },
  {
   "cell_type": "code",
   "execution_count": 29,
   "metadata": {},
   "outputs": [
    {
     "data": {
      "application/vnd.microsoft.datawrangler.viewer.v0+json": {
       "columns": [
        {
         "name": "index",
         "rawType": "int64",
         "type": "integer"
        },
        {
         "name": "Type",
         "rawType": "object",
         "type": "string"
        },
        {
         "name": "Model",
         "rawType": "object",
         "type": "string"
        },
        {
         "name": "Accuracy",
         "rawType": "float64",
         "type": "float"
        },
        {
         "name": "Precision",
         "rawType": "float64",
         "type": "float"
        },
        {
         "name": "Recall",
         "rawType": "float64",
         "type": "float"
        },
        {
         "name": "ROC-AUC",
         "rawType": "float64",
         "type": "float"
        }
       ],
       "conversionMethod": "pd.DataFrame",
       "ref": "c7408d44-1bae-4551-a23c-bd5a2bbb219c",
       "rows": [
        [
         "0",
         "Baseline",
         "Majority Class Model",
         "0.7",
         "0.49",
         "0.7",
         "0.5"
        ],
        [
         "1",
         "Baseline",
         "Shallow Decision Tree",
         "0.719",
         "0.7085",
         "0.719",
         "0.645"
        ],
        [
         "2",
         "Advanced",
         "Decision Tree",
         "0.71",
         "0.7547",
         "0.71",
         "0.6893"
        ],
        [
         "3",
         "Advanced",
         "Random Forest",
         "0.8",
         "0.7856",
         "0.8",
         "0.6788"
        ],
        [
         "4",
         "Advanced",
         "AdaBoost",
         "0.6",
         "0.7948",
         "0.6",
         "0.6993"
        ]
       ],
       "shape": {
        "columns": 6,
        "rows": 5
       }
      },
      "text/html": [
       "<div>\n",
       "<style scoped>\n",
       "    .dataframe tbody tr th:only-of-type {\n",
       "        vertical-align: middle;\n",
       "    }\n",
       "\n",
       "    .dataframe tbody tr th {\n",
       "        vertical-align: top;\n",
       "    }\n",
       "\n",
       "    .dataframe thead th {\n",
       "        text-align: right;\n",
       "    }\n",
       "</style>\n",
       "<table border=\"1\" class=\"dataframe\">\n",
       "  <thead>\n",
       "    <tr style=\"text-align: right;\">\n",
       "      <th></th>\n",
       "      <th>Type</th>\n",
       "      <th>Model</th>\n",
       "      <th>Accuracy</th>\n",
       "      <th>Precision</th>\n",
       "      <th>Recall</th>\n",
       "      <th>ROC-AUC</th>\n",
       "    </tr>\n",
       "  </thead>\n",
       "  <tbody>\n",
       "    <tr>\n",
       "      <th>0</th>\n",
       "      <td>Baseline</td>\n",
       "      <td>Majority Class Model</td>\n",
       "      <td>0.700</td>\n",
       "      <td>0.4900</td>\n",
       "      <td>0.700</td>\n",
       "      <td>0.5000</td>\n",
       "    </tr>\n",
       "    <tr>\n",
       "      <th>1</th>\n",
       "      <td>Baseline</td>\n",
       "      <td>Shallow Decision Tree</td>\n",
       "      <td>0.719</td>\n",
       "      <td>0.7085</td>\n",
       "      <td>0.719</td>\n",
       "      <td>0.6450</td>\n",
       "    </tr>\n",
       "    <tr>\n",
       "      <th>2</th>\n",
       "      <td>Advanced</td>\n",
       "      <td>Decision Tree</td>\n",
       "      <td>0.710</td>\n",
       "      <td>0.7547</td>\n",
       "      <td>0.710</td>\n",
       "      <td>0.6893</td>\n",
       "    </tr>\n",
       "    <tr>\n",
       "      <th>3</th>\n",
       "      <td>Advanced</td>\n",
       "      <td>Random Forest</td>\n",
       "      <td>0.800</td>\n",
       "      <td>0.7856</td>\n",
       "      <td>0.800</td>\n",
       "      <td>0.6788</td>\n",
       "    </tr>\n",
       "    <tr>\n",
       "      <th>4</th>\n",
       "      <td>Advanced</td>\n",
       "      <td>AdaBoost</td>\n",
       "      <td>0.600</td>\n",
       "      <td>0.7948</td>\n",
       "      <td>0.600</td>\n",
       "      <td>0.6993</td>\n",
       "    </tr>\n",
       "  </tbody>\n",
       "</table>\n",
       "</div>"
      ],
      "text/plain": [
       "       Type                  Model  Accuracy  Precision  Recall  ROC-AUC\n",
       "0  Baseline   Majority Class Model     0.700     0.4900   0.700   0.5000\n",
       "1  Baseline  Shallow Decision Tree     0.719     0.7085   0.719   0.6450\n",
       "2  Advanced          Decision Tree     0.710     0.7547   0.710   0.6893\n",
       "3  Advanced          Random Forest     0.800     0.7856   0.800   0.6788\n",
       "4  Advanced               AdaBoost     0.600     0.7948   0.600   0.6993"
      ]
     },
     "metadata": {},
     "output_type": "display_data"
    },
    {
     "data": {
      "application/vnd.microsoft.datawrangler.viewer.v0+json": {
       "columns": [
        {
         "name": "index",
         "rawType": "int64",
         "type": "integer"
        },
        {
         "name": "Type",
         "rawType": "object",
         "type": "string"
        },
        {
         "name": "Model",
         "rawType": "object",
         "type": "string"
        },
        {
         "name": "Maximum cost",
         "rawType": "int64",
         "type": "integer"
        },
        {
         "name": "Model cost",
         "rawType": "float64",
         "type": "float"
        },
        {
         "name": "Relative cost",
         "rawType": "float64",
         "type": "float"
        }
       ],
       "conversionMethod": "pd.DataFrame",
       "ref": "7cc195a9-cd6e-4aad-aff8-1e81c423fe3b",
       "rows": [
        [
         "0",
         "Baseline",
         "Majority Class Model",
         "5000",
         null,
         null
        ],
        [
         "1",
         "Baseline",
         "Shallow Decision Tree",
         "5000",
         null,
         null
        ],
        [
         "2",
         "Advanced",
         "Decision Tree",
         "1000",
         "130.0",
         "0.13"
        ],
        [
         "3",
         "Advanced",
         "Random Forest",
         "1000",
         "156.0",
         "0.156"
        ],
        [
         "4",
         "Advanced",
         "AdaBoost",
         "1000",
         "100.0",
         "0.1"
        ]
       ],
       "shape": {
        "columns": 5,
        "rows": 5
       }
      },
      "text/html": [
       "<div>\n",
       "<style scoped>\n",
       "    .dataframe tbody tr th:only-of-type {\n",
       "        vertical-align: middle;\n",
       "    }\n",
       "\n",
       "    .dataframe tbody tr th {\n",
       "        vertical-align: top;\n",
       "    }\n",
       "\n",
       "    .dataframe thead th {\n",
       "        text-align: right;\n",
       "    }\n",
       "</style>\n",
       "<table border=\"1\" class=\"dataframe\">\n",
       "  <thead>\n",
       "    <tr style=\"text-align: right;\">\n",
       "      <th></th>\n",
       "      <th>Type</th>\n",
       "      <th>Model</th>\n",
       "      <th>Maximum cost</th>\n",
       "      <th>Model cost</th>\n",
       "      <th>Relative cost</th>\n",
       "    </tr>\n",
       "  </thead>\n",
       "  <tbody>\n",
       "    <tr>\n",
       "      <th>0</th>\n",
       "      <td>Baseline</td>\n",
       "      <td>Majority Class Model</td>\n",
       "      <td>5000</td>\n",
       "      <td>NaN</td>\n",
       "      <td>NaN</td>\n",
       "    </tr>\n",
       "    <tr>\n",
       "      <th>1</th>\n",
       "      <td>Baseline</td>\n",
       "      <td>Shallow Decision Tree</td>\n",
       "      <td>5000</td>\n",
       "      <td>NaN</td>\n",
       "      <td>NaN</td>\n",
       "    </tr>\n",
       "    <tr>\n",
       "      <th>2</th>\n",
       "      <td>Advanced</td>\n",
       "      <td>Decision Tree</td>\n",
       "      <td>1000</td>\n",
       "      <td>130.0</td>\n",
       "      <td>0.130</td>\n",
       "    </tr>\n",
       "    <tr>\n",
       "      <th>3</th>\n",
       "      <td>Advanced</td>\n",
       "      <td>Random Forest</td>\n",
       "      <td>1000</td>\n",
       "      <td>156.0</td>\n",
       "      <td>0.156</td>\n",
       "    </tr>\n",
       "    <tr>\n",
       "      <th>4</th>\n",
       "      <td>Advanced</td>\n",
       "      <td>AdaBoost</td>\n",
       "      <td>1000</td>\n",
       "      <td>100.0</td>\n",
       "      <td>0.100</td>\n",
       "    </tr>\n",
       "  </tbody>\n",
       "</table>\n",
       "</div>"
      ],
      "text/plain": [
       "       Type                  Model  Maximum cost  Model cost  Relative cost\n",
       "0  Baseline   Majority Class Model          5000         NaN            NaN\n",
       "1  Baseline  Shallow Decision Tree          5000         NaN            NaN\n",
       "2  Advanced          Decision Tree          1000       130.0          0.130\n",
       "3  Advanced          Random Forest          1000       156.0          0.156\n",
       "4  Advanced               AdaBoost          1000       100.0          0.100"
      ]
     },
     "metadata": {},
     "output_type": "display_data"
    }
   ],
   "source": [
    "# Data preparation\n",
    "X = credit_data.drop(columns=[\"DEBTOR_STATUS\"])\n",
    "y = credit_data[\"DEBTOR_STATUS\"]\n",
    "\n",
    "# Train-test split \n",
    "X_train, X_test, y_train, y_test = train_test_split(X, y, test_size=0.2, random_state=7) \n",
    "\n",
    "# Define AdaBoost Model with cost-sensitive base estimator\n",
    "ada_boost_model = AdaBoostClassifier(\n",
    "    estimator=DecisionTreeClassifier(max_depth=1, class_weight={0: 1, 1: 5}, random_state=7),\n",
    "    algorithm=\"SAMME\",\n",
    "    random_state=7\n",
    ")\n",
    "\n",
    "# Define the hyperparameter grid\n",
    "param_grid = {\n",
    "    \"n_estimators\": [50, 100, 200],\n",
    "    \"learning_rate\": [0.1, 0.3, 1, 5]\n",
    "    }\n",
    "\n",
    "# Grid Search with 5-fold cross-validation\n",
    "grid_search = GridSearchCV(\n",
    "    estimator=ada_boost_model,\n",
    "    param_grid=param_grid,\n",
    "    scoring=\"accuracy\",\n",
    "    cv=5,\n",
    "    verbose=0\n",
    "    )\n",
    "\n",
    "# Fit the model\n",
    "grid_search.fit(X_train, y_train)\n",
    "\n",
    "# Make predictions with the best model\n",
    "best_ab_model = grid_search.best_estimator_\n",
    "y_pred = best_ab_model.predict(X_test)\n",
    "y_prob = best_ab_model.predict_proba(X_test)\n",
    "\n",
    "# Save best parameters\n",
    "best_parameters.loc[best_parameters[\"Model\"] == \"AdaBoost\", list(grid_search.best_params_.keys())] = list(grid_search.best_params_.values())\n",
    "\n",
    "# Evaluate the final model -----\n",
    "# Confusion matrix and related metrics\n",
    "conf_matrix[\"AdaBoost\"] = confusion_matrix(y_test, y_pred)\n",
    "class_report_results.loc[class_report_results[\"Model\"] == \"AdaBoost\", \"Accuracy\"] = round(accuracy_score(y_test, y_pred), 4)\n",
    "class_report_results.loc[class_report_results[\"Model\"] == \"AdaBoost\", \"Precision\"] = round(precision_score(y_test, y_pred, average=\"weighted\", zero_division=0), 4)\n",
    "class_report_results.loc[class_report_results[\"Model\"] == \"AdaBoost\", \"Recall\"] = round(recall_score(y_test, y_pred, average=\"weighted\"), 4)\n",
    "# ROC-AUC\n",
    "class_report_results.loc[class_report_results[\"Model\"] == \"AdaBoost\", \"ROC-AUC\"] = round(roc_auc_score(y_test, y_pred), 4)\n",
    "# False Positive Rate, True Positive Rate, and Tresholds\n",
    "fpr, tpr, thresholds = roc_curve(y_test, y_prob[:, 1])\n",
    "roc_auc_data = pd.DataFrame({\n",
    "    \"False Positive Rate\": fpr,\n",
    "    \"True Positive Rate\": tpr,\n",
    "    \"Threshold\": thresholds\n",
    "})\n",
    "roc_auc_data.to_csv(\"tables/roc_auc_data_ada_boost.csv\", index=False)\n",
    "\n",
    "# Misclassification costs -----\n",
    "misclass_matrix[\"AdaBoost\"] = conf_matrix[\"AdaBoost\"] * cost_matrix\n",
    "misclass_cost.loc[class_report_results[\"Model\"] == \"AdaBoost\", \"Model cost\"] = (conf_matrix[\"AdaBoost\"] * cost_matrix).sum()\n",
    "misclass_cost.loc[class_report_results[\"Model\"] == \"AdaBoost\", \"Relative cost\"] = (conf_matrix[\"AdaBoost\"] * cost_matrix).sum()/(cost_matrix.max() * len(X_test))\n",
    "\n",
    "# Feature importance -----\n",
    "feature_importance[\"AdaBoost\"] = pd.DataFrame({\"Feature\": best_ab_model.feature_names_in_,\n",
    "                                               \"Importance\": best_ab_model.feature_importances_\n",
    "                                               }).sort_values(by=\"Importance\", ascending=False)\n",
    "\n",
    "# Display metrics -----\n",
    "display(class_report_results.iloc[0:(class_report_results.loc[class_report_results[\"Model\"] == \"AdaBoost\"].index[0] + 1)])\n",
    "display(misclass_cost.iloc[0:(misclass_cost.loc[misclass_cost[\"Model\"] == \"AdaBoost\"].index[0] + 1)])"
   ]
  },
  {
   "cell_type": "markdown",
   "metadata": {},
   "source": [
    "### **GradientBoost**"
   ]
  },
  {
   "cell_type": "code",
   "execution_count": 30,
   "metadata": {},
   "outputs": [
    {
     "data": {
      "application/vnd.microsoft.datawrangler.viewer.v0+json": {
       "columns": [
        {
         "name": "index",
         "rawType": "int64",
         "type": "integer"
        },
        {
         "name": "Type",
         "rawType": "object",
         "type": "string"
        },
        {
         "name": "Model",
         "rawType": "object",
         "type": "string"
        },
        {
         "name": "Accuracy",
         "rawType": "float64",
         "type": "float"
        },
        {
         "name": "Precision",
         "rawType": "float64",
         "type": "float"
        },
        {
         "name": "Recall",
         "rawType": "float64",
         "type": "float"
        },
        {
         "name": "ROC-AUC",
         "rawType": "float64",
         "type": "float"
        }
       ],
       "conversionMethod": "pd.DataFrame",
       "ref": "0c93bc78-9440-4dfc-9eee-c88df9f398b5",
       "rows": [
        [
         "0",
         "Baseline",
         "Majority Class Model",
         "0.7",
         "0.49",
         "0.7",
         "0.5"
        ],
        [
         "1",
         "Baseline",
         "Shallow Decision Tree",
         "0.719",
         "0.7085",
         "0.719",
         "0.645"
        ],
        [
         "2",
         "Advanced",
         "Decision Tree",
         "0.71",
         "0.7547",
         "0.71",
         "0.6893"
        ],
        [
         "3",
         "Advanced",
         "Random Forest",
         "0.8",
         "0.7856",
         "0.8",
         "0.6788"
        ],
        [
         "4",
         "Advanced",
         "AdaBoost",
         "0.6",
         "0.7948",
         "0.6",
         "0.6993"
        ],
        [
         "5",
         "Advanced",
         "GradientBoost",
         "0.795",
         "0.8086",
         "0.795",
         "0.7592"
        ]
       ],
       "shape": {
        "columns": 6,
        "rows": 6
       }
      },
      "text/html": [
       "<div>\n",
       "<style scoped>\n",
       "    .dataframe tbody tr th:only-of-type {\n",
       "        vertical-align: middle;\n",
       "    }\n",
       "\n",
       "    .dataframe tbody tr th {\n",
       "        vertical-align: top;\n",
       "    }\n",
       "\n",
       "    .dataframe thead th {\n",
       "        text-align: right;\n",
       "    }\n",
       "</style>\n",
       "<table border=\"1\" class=\"dataframe\">\n",
       "  <thead>\n",
       "    <tr style=\"text-align: right;\">\n",
       "      <th></th>\n",
       "      <th>Type</th>\n",
       "      <th>Model</th>\n",
       "      <th>Accuracy</th>\n",
       "      <th>Precision</th>\n",
       "      <th>Recall</th>\n",
       "      <th>ROC-AUC</th>\n",
       "    </tr>\n",
       "  </thead>\n",
       "  <tbody>\n",
       "    <tr>\n",
       "      <th>0</th>\n",
       "      <td>Baseline</td>\n",
       "      <td>Majority Class Model</td>\n",
       "      <td>0.700</td>\n",
       "      <td>0.4900</td>\n",
       "      <td>0.700</td>\n",
       "      <td>0.5000</td>\n",
       "    </tr>\n",
       "    <tr>\n",
       "      <th>1</th>\n",
       "      <td>Baseline</td>\n",
       "      <td>Shallow Decision Tree</td>\n",
       "      <td>0.719</td>\n",
       "      <td>0.7085</td>\n",
       "      <td>0.719</td>\n",
       "      <td>0.6450</td>\n",
       "    </tr>\n",
       "    <tr>\n",
       "      <th>2</th>\n",
       "      <td>Advanced</td>\n",
       "      <td>Decision Tree</td>\n",
       "      <td>0.710</td>\n",
       "      <td>0.7547</td>\n",
       "      <td>0.710</td>\n",
       "      <td>0.6893</td>\n",
       "    </tr>\n",
       "    <tr>\n",
       "      <th>3</th>\n",
       "      <td>Advanced</td>\n",
       "      <td>Random Forest</td>\n",
       "      <td>0.800</td>\n",
       "      <td>0.7856</td>\n",
       "      <td>0.800</td>\n",
       "      <td>0.6788</td>\n",
       "    </tr>\n",
       "    <tr>\n",
       "      <th>4</th>\n",
       "      <td>Advanced</td>\n",
       "      <td>AdaBoost</td>\n",
       "      <td>0.600</td>\n",
       "      <td>0.7948</td>\n",
       "      <td>0.600</td>\n",
       "      <td>0.6993</td>\n",
       "    </tr>\n",
       "    <tr>\n",
       "      <th>5</th>\n",
       "      <td>Advanced</td>\n",
       "      <td>GradientBoost</td>\n",
       "      <td>0.795</td>\n",
       "      <td>0.8086</td>\n",
       "      <td>0.795</td>\n",
       "      <td>0.7592</td>\n",
       "    </tr>\n",
       "  </tbody>\n",
       "</table>\n",
       "</div>"
      ],
      "text/plain": [
       "       Type                  Model  Accuracy  Precision  Recall  ROC-AUC\n",
       "0  Baseline   Majority Class Model     0.700     0.4900   0.700   0.5000\n",
       "1  Baseline  Shallow Decision Tree     0.719     0.7085   0.719   0.6450\n",
       "2  Advanced          Decision Tree     0.710     0.7547   0.710   0.6893\n",
       "3  Advanced          Random Forest     0.800     0.7856   0.800   0.6788\n",
       "4  Advanced               AdaBoost     0.600     0.7948   0.600   0.6993\n",
       "5  Advanced          GradientBoost     0.795     0.8086   0.795   0.7592"
      ]
     },
     "metadata": {},
     "output_type": "display_data"
    },
    {
     "data": {
      "application/vnd.microsoft.datawrangler.viewer.v0+json": {
       "columns": [
        {
         "name": "index",
         "rawType": "int64",
         "type": "integer"
        },
        {
         "name": "Type",
         "rawType": "object",
         "type": "string"
        },
        {
         "name": "Model",
         "rawType": "object",
         "type": "string"
        },
        {
         "name": "Maximum cost",
         "rawType": "int64",
         "type": "integer"
        },
        {
         "name": "Model cost",
         "rawType": "float64",
         "type": "float"
        },
        {
         "name": "Relative cost",
         "rawType": "float64",
         "type": "float"
        }
       ],
       "conversionMethod": "pd.DataFrame",
       "ref": "69d9d0ce-38de-4885-b897-d28f6429dcc9",
       "rows": [
        [
         "0",
         "Baseline",
         "Majority Class Model",
         "5000",
         null,
         null
        ],
        [
         "1",
         "Baseline",
         "Shallow Decision Tree",
         "5000",
         null,
         null
        ],
        [
         "2",
         "Advanced",
         "Decision Tree",
         "1000",
         "130.0",
         "0.13"
        ],
        [
         "3",
         "Advanced",
         "Random Forest",
         "1000",
         "156.0",
         "0.156"
        ],
        [
         "4",
         "Advanced",
         "AdaBoost",
         "1000",
         "100.0",
         "0.1"
        ],
        [
         "5",
         "Advanced",
         "GradientBoost",
         "1000",
         "105.0",
         "0.105"
        ]
       ],
       "shape": {
        "columns": 5,
        "rows": 6
       }
      },
      "text/html": [
       "<div>\n",
       "<style scoped>\n",
       "    .dataframe tbody tr th:only-of-type {\n",
       "        vertical-align: middle;\n",
       "    }\n",
       "\n",
       "    .dataframe tbody tr th {\n",
       "        vertical-align: top;\n",
       "    }\n",
       "\n",
       "    .dataframe thead th {\n",
       "        text-align: right;\n",
       "    }\n",
       "</style>\n",
       "<table border=\"1\" class=\"dataframe\">\n",
       "  <thead>\n",
       "    <tr style=\"text-align: right;\">\n",
       "      <th></th>\n",
       "      <th>Type</th>\n",
       "      <th>Model</th>\n",
       "      <th>Maximum cost</th>\n",
       "      <th>Model cost</th>\n",
       "      <th>Relative cost</th>\n",
       "    </tr>\n",
       "  </thead>\n",
       "  <tbody>\n",
       "    <tr>\n",
       "      <th>0</th>\n",
       "      <td>Baseline</td>\n",
       "      <td>Majority Class Model</td>\n",
       "      <td>5000</td>\n",
       "      <td>NaN</td>\n",
       "      <td>NaN</td>\n",
       "    </tr>\n",
       "    <tr>\n",
       "      <th>1</th>\n",
       "      <td>Baseline</td>\n",
       "      <td>Shallow Decision Tree</td>\n",
       "      <td>5000</td>\n",
       "      <td>NaN</td>\n",
       "      <td>NaN</td>\n",
       "    </tr>\n",
       "    <tr>\n",
       "      <th>2</th>\n",
       "      <td>Advanced</td>\n",
       "      <td>Decision Tree</td>\n",
       "      <td>1000</td>\n",
       "      <td>130.0</td>\n",
       "      <td>0.130</td>\n",
       "    </tr>\n",
       "    <tr>\n",
       "      <th>3</th>\n",
       "      <td>Advanced</td>\n",
       "      <td>Random Forest</td>\n",
       "      <td>1000</td>\n",
       "      <td>156.0</td>\n",
       "      <td>0.156</td>\n",
       "    </tr>\n",
       "    <tr>\n",
       "      <th>4</th>\n",
       "      <td>Advanced</td>\n",
       "      <td>AdaBoost</td>\n",
       "      <td>1000</td>\n",
       "      <td>100.0</td>\n",
       "      <td>0.100</td>\n",
       "    </tr>\n",
       "    <tr>\n",
       "      <th>5</th>\n",
       "      <td>Advanced</td>\n",
       "      <td>GradientBoost</td>\n",
       "      <td>1000</td>\n",
       "      <td>105.0</td>\n",
       "      <td>0.105</td>\n",
       "    </tr>\n",
       "  </tbody>\n",
       "</table>\n",
       "</div>"
      ],
      "text/plain": [
       "       Type                  Model  Maximum cost  Model cost  Relative cost\n",
       "0  Baseline   Majority Class Model          5000         NaN            NaN\n",
       "1  Baseline  Shallow Decision Tree          5000         NaN            NaN\n",
       "2  Advanced          Decision Tree          1000       130.0          0.130\n",
       "3  Advanced          Random Forest          1000       156.0          0.156\n",
       "4  Advanced               AdaBoost          1000       100.0          0.100\n",
       "5  Advanced          GradientBoost          1000       105.0          0.105"
      ]
     },
     "metadata": {},
     "output_type": "display_data"
    }
   ],
   "source": [
    "# Data preparation\n",
    "X = credit_data.drop(columns=[\"DEBTOR_STATUS\"])\n",
    "y = credit_data[\"DEBTOR_STATUS\"]\n",
    "\n",
    "# Train-test split \n",
    "X_train, X_test, y_train, y_test = train_test_split(X, y, test_size=0.2, random_state=7) \n",
    "\n",
    "# Define the (Extreme) Gradient Boost Model with class weights\n",
    "gradient_boost_model = XGBClassifier(\n",
    "    objective=\"binary:logistic\",\n",
    "    scale_pos_weight=5,  # cost of misclassifying class 1 (bad debtor) relative to class 0\n",
    "    eval_metric=\"logloss\",\n",
    "    random_state=7\n",
    ")\n",
    "\n",
    "# Define the hyperparameter grid\n",
    "param_grid = {\n",
    "    \"max_depth\": [2, 4, 6, 8, None],\n",
    "    \"learning_rate\": [0.1, 0.3, 1]\n",
    "    }\n",
    "\n",
    "# Grid Search with 5-fold cross-validation\n",
    "grid_search = GridSearchCV(\n",
    "    estimator=gradient_boost_model,\n",
    "    param_grid=param_grid,\n",
    "    scoring=\"accuracy\",\n",
    "    cv=5,\n",
    "    verbose=0\n",
    "    )\n",
    "\n",
    "# Fit the model\n",
    "grid_search.fit(X_train, y_train)\n",
    "\n",
    "# Make predictions with the best model\n",
    "best_gb_model = grid_search.best_estimator_\n",
    "y_pred = best_gb_model.predict(X_test)\n",
    "y_prob = best_gb_model.predict_proba(X_test)\n",
    "\n",
    "# Save best parameters\n",
    "best_parameters.loc[best_parameters[\"Model\"] == \"GradientBoost\", list(grid_search.best_params_.keys())] = list(grid_search.best_params_.values())\n",
    "\n",
    "# Evaluate the final model -----\n",
    "# Confusion matrix and related metrics\n",
    "conf_matrix[\"GradientBoost\"] = confusion_matrix(y_test, y_pred)\n",
    "class_report_results.loc[class_report_results[\"Model\"] == \"GradientBoost\", \"Accuracy\"] = round(accuracy_score(y_test, y_pred), 4)\n",
    "class_report_results.loc[class_report_results[\"Model\"] == \"GradientBoost\", \"Precision\"] = round(precision_score(y_test, y_pred, average=\"weighted\", zero_division=0), 4)\n",
    "class_report_results.loc[class_report_results[\"Model\"] == \"GradientBoost\", \"Recall\"] = round(recall_score(y_test, y_pred, average=\"weighted\"), 4)\n",
    "# ROC-AUC\n",
    "class_report_results.loc[class_report_results[\"Model\"] == \"GradientBoost\", \"ROC-AUC\"] = round(roc_auc_score(y_test, y_pred), 4)\n",
    "# False Positive Rate, True Positive Rate, and Tresholds\n",
    "fpr, tpr, thresholds = roc_curve(y_test, y_prob[:, 1])\n",
    "roc_auc_data = pd.DataFrame({\n",
    "    \"False Positive Rate\": fpr,\n",
    "    \"True Positive Rate\": tpr,\n",
    "    \"Threshold\": thresholds\n",
    "})\n",
    "roc_auc_data.to_csv(\"tables/roc_auc_data_gradient_boost.csv\", index=False)\n",
    "\n",
    "# Misclassification costs -----\n",
    "misclass_matrix[\"GradientBoost\"] = conf_matrix[\"GradientBoost\"] * cost_matrix\n",
    "misclass_cost.loc[class_report_results[\"Model\"] == \"GradientBoost\", \"Model cost\"] = (conf_matrix[\"GradientBoost\"] * cost_matrix).sum()\n",
    "misclass_cost.loc[class_report_results[\"Model\"] == \"GradientBoost\", \"Relative cost\"] = (conf_matrix[\"GradientBoost\"] * cost_matrix).sum()/(cost_matrix.max() * len(X_test))\n",
    "\n",
    "# Feature importance -----\n",
    "feature_importance[\"GradientBoost\"] = pd.DataFrame({\"Feature\": best_gb_model.feature_names_in_,\n",
    "                                                    \"Importance\": best_gb_model.feature_importances_\n",
    "                                                    }).sort_values(by=\"Importance\", ascending=False)\n",
    "\n",
    "# Display metrics -----\n",
    "display(class_report_results.iloc[0:(class_report_results.loc[class_report_results[\"Model\"] == \"GradientBoost\"].index[0] + 1)])\n",
    "display(misclass_cost.iloc[0:(misclass_cost.loc[misclass_cost[\"Model\"] == \"GradientBoost\"].index[0] + 1)])"
   ]
  },
  {
   "cell_type": "markdown",
   "metadata": {},
   "source": [
    "## **Export Data Tables**"
   ]
  },
  {
   "cell_type": "code",
   "execution_count": 61,
   "metadata": {},
   "outputs": [],
   "source": [
    "# Classification report\n",
    "class_report_results.to_csv(\"tables/class_report_results.csv\", index=False)\n",
    "\n",
    "# Feature importance\n",
    "for model_name in feature_importance.keys():\n",
    "    if feature_importance[model_name] is np.nan:\n",
    "        continue\n",
    "    feature_importance[model_name] = feature_importance[model_name].round(4)\n",
    "    feature_importance[model_name].to_csv(f'tables/feature_importance_{model_name.replace(\" \", \"_\").lower()}.csv', index=False)"
   ]
  }
 ],
 "metadata": {
  "kernelspec": {
   "display_name": "general",
   "language": "python",
   "name": "python3"
  },
  "language_info": {
   "codemirror_mode": {
    "name": "ipython",
    "version": 3
   },
   "file_extension": ".py",
   "mimetype": "text/x-python",
   "name": "python",
   "nbconvert_exporter": "python",
   "pygments_lexer": "ipython3",
   "version": "3.11.8"
  }
 },
 "nbformat": 4,
 "nbformat_minor": 2
}
